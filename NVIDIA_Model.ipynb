{
  "nbformat": 4,
  "nbformat_minor": 0,
  "metadata": {
    "colab": {
      "name": "duckie.ipynb",
      "provenance": [],
      "collapsed_sections": [],
      "toc_visible": true
    },
    "kernelspec": {
      "name": "python3",
      "display_name": "Python 3"
    },
    "accelerator": "GPU"
  },
  "cells": [
    {
      "cell_type": "code",
      "metadata": {
        "id": "a6yM32ZV5Eiy"
      },
      "source": [
        "import cv2\r\n",
        "import os\r\n",
        "import numpy as np\r\n",
        "import pandas as pd\r\n",
        "\r\n",
        "from keras.layers import Lambda, Conv2D, MaxPooling2D, Dropout, Dense, Flatten\r\n",
        "from keras.models import Sequential,load_model\r\n",
        "from keras.optimizers import Adam\r\n",
        "\r\n",
        "\r\n",
        "from keras.callbacks import ModelCheckpoint, TensorBoard\r\n",
        "\r\n",
        "SHAPE = (160, 320, 3)"
      ],
      "execution_count": null,
      "outputs": []
    },
    {
      "cell_type": "markdown",
      "metadata": {
        "id": "-THlbwlmPZtz"
      },
      "source": [
        "# Yeni Bölüm"
      ]
    },
    {
      "cell_type": "code",
      "metadata": {
        "colab": {
          "base_uri": "https://localhost:8080/"
        },
        "id": "GY_BtJ3BHFl1",
        "outputId": "1c0b8d07-56e1-46ce-9d56-ee721c8d2496"
      },
      "source": [
        "from google.colab import drive\n",
        "drive.mount('/content/drive')"
      ],
      "execution_count": null,
      "outputs": [
        {
          "output_type": "stream",
          "text": [
            "Drive already mounted at /content/drive; to attempt to forcibly remount, call drive.mount(\"/content/drive\", force_remount=True).\n"
          ],
          "name": "stdout"
        }
      ]
    },
    {
      "cell_type": "markdown",
      "metadata": {
        "id": "9gZPNInVvmmu"
      },
      "source": [
        "# Yeni Bölüm"
      ]
    },
    {
      "cell_type": "markdown",
      "metadata": {
        "id": "dNVGe2tv5b80"
      },
      "source": [
        "# Zenginleştirme sırasında kullanılacak fonksiyonlar"
      ]
    },
    {
      "cell_type": "code",
      "metadata": {
        "id": "GrG3mrOn5YWW"
      },
      "source": [
        "def crop_resize(image, result_shape = (160, 320)):\r\n",
        "    preprocessed_image = image[180::]\r\n",
        "    preprocessed_image = cv2.resize(preprocessed_image, result_shape, cv2.INTER_AREA)\r\n",
        "    return preprocessed_image\r\n",
        "\r\n",
        "def random_brightness(image):\r\n",
        "    hsv = cv2.cvtColor(image, cv2.COLOR_RGB2HSV)\r\n",
        "    ratio = 1.0 + 0.4 * (np.random.rand() - 0.5)\r\n",
        "    hsv[:,:,2] =  hsv[:,:,2] * ratio\r\n",
        "    return cv2.cvtColor(hsv, cv2.COLOR_HSV2RGB)\r\n",
        "\r\n",
        "\r\n",
        "def random_shadow(image):\r\n",
        "    h, w = image.shape[:-1]\r\n",
        "    x1, y1 = w * np.random.rand(), 0\r\n",
        "    x2, y2 = w * np.random.rand(), h\r\n",
        "    xm, ym = np.mgrid[0:h, 0:w]\r\n",
        "\r\n",
        "    mask = np.zeros_like(image[:, :, 1])\r\n",
        "    mask[(ym - y1) * (x2 - x1) - (y2 - y1) * (xm - x1) > 0] = 1\r\n",
        "\r\n",
        "    cond = mask == np.random.randint(2)\r\n",
        "    s_ratio = np.random.uniform(low=0.2, high=0.5)\r\n",
        "\r\n",
        "    hls = cv2.cvtColor(image, cv2.COLOR_RGB2HLS)\r\n",
        "    hls[:, :, 1][cond] = hls[:, :, 1][cond] * s_ratio\r\n",
        "    return cv2.cvtColor(hls, cv2.COLOR_HLS2RGB)\r\n",
        "\r\n",
        "\r\n",
        "def random_flip(image, angle):\r\n",
        "    if np.random.rand() < 0.5:\r\n",
        "        image = cv2.flip(image, 1)\r\n",
        "        angle = -angle\r\n",
        "    return image, angle\r\n",
        "\r\n",
        "\r\n",
        "def random_salt_and_pepper(image):\r\n",
        "    if(np.random.rand() < .10):\r\n",
        "        return image\r\n",
        "    row,col,ch = image.shape\r\n",
        "    s_vs_p = 0.5\r\n",
        "    amount = 0.02\r\n",
        "    out = np.copy(image)\r\n",
        "    # Salt mode\r\n",
        "    num_salt = np.ceil(amount * image.size * s_vs_p)\r\n",
        "    coords = [np.random.randint(0, i - 1, int(num_salt))\r\n",
        "            for i in image.shape]\r\n",
        "    out[coords] = 1\r\n",
        "\r\n",
        "    # Pepper mode\r\n",
        "    num_pepper = np.ceil(amount* image.size * (1. - s_vs_p))\r\n",
        "    coords = [np.random.randint(0, i - 1, int(num_pepper))\r\n",
        "            for i in image.shape]\r\n",
        "    out[coords] = 0\r\n",
        "    return out"
      ],
      "execution_count": null,
      "outputs": []
    },
    {
      "cell_type": "markdown",
      "metadata": {
        "id": "RGU1qsxb5iyd"
      },
      "source": [
        "# Zenginleştirme (image augmentation)"
      ]
    },
    {
      "cell_type": "code",
      "metadata": {
        "id": "Tdtrkp1V5nNw"
      },
      "source": [
        "def data_generator(directory, batch_size, image_pre_path = \".\"):\r\n",
        "    \r\n",
        "\r\n",
        "    df = pd.read_csv(directory)\r\n",
        "    samples_len = len(df)\r\n",
        "    \r\n",
        "    while True:\r\n",
        "        train_x = []\r\n",
        "        train_y = []\r\n",
        "        for _ in range(batch_size):\r\n",
        "            sample_index = np.random.randint(samples_len)\r\n",
        "\r\n",
        "            image_file_name = df.loc[sample_index, \"image_name\"]\r\n",
        "            #action_x =  df.loc[sample_index, \"x\"]\r\n",
        "            action_y =  df.loc[sample_index, \"y\"]\r\n",
        "\r\n",
        "            image = cv2.imread(f\"{image_pre_path}/{image_file_name}\")\r\n",
        "            \r\n",
        "            image = crop_resize(image)\r\n",
        "            image = random_brightness(image)\r\n",
        "            image = random_shadow(image)\r\n",
        "            image, action_y = random_flip(image, action_y)\r\n",
        "            image = random_salt_and_pepper(image)\r\n",
        "\r\n",
        "            train_x.append(image)\r\n",
        "            train_y.append(action_y)\r\n",
        "\r\n",
        "        train_x = np.array(train_x)\r\n",
        "        train_y = np.array(train_y)\r\n",
        "        yield train_x.reshape((-1, SHAPE[0], SHAPE[1], SHAPE[2])), train_y.reshape((-1, 1))\r\n"
      ],
      "execution_count": null,
      "outputs": []
    },
    {
      "cell_type": "markdown",
      "metadata": {
        "id": "gYqmNoR-5r8_"
      },
      "source": [
        "# Model oluşturma"
      ]
    },
    {
      "cell_type": "code",
      "metadata": {
        "id": "e4zbgGvi5q6Q"
      },
      "source": [
        "def build_model():\r\n",
        "    model=Sequential()\r\n",
        "    model.add(Lambda(lambda x: x/127.5-1.0,input_shape=(160,320,3)))\r\n",
        "    #ELU(Exponential linear unit) function takes care of the Vanishing gradient problem.\r\n",
        "    model.add(Conv2D(24,(5,5),activation=\"elu\",strides=(2,2)))\r\n",
        "    model.add(Conv2D(36,(5,5),activation=\"elu\",strides=(2,2)))\r\n",
        "    model.add(Conv2D(48,(5,5),activation=\"elu\",strides=(2,2)))\r\n",
        "    model.add(Conv2D(64,(5,5),activation=\"elu\"))\r\n",
        "    model.add(Conv2D(64,(5,5),activation=\"elu\"))\r\n",
        "    model.add(Dropout(0.5))\r\n",
        "    model.add(Flatten())\r\n",
        "    model.add(Dense(100,activation=\"elu\"))\r\n",
        "    model.add(Dense(50,activation=\"elu\"))\r\n",
        "    model.add(Dense(10,activation=\"elu\"))\r\n",
        "    model.add(Dense(1))\r\n",
        "\r\n",
        "    model.summary()\r\n",
        "    return model"
      ],
      "execution_count": null,
      "outputs": []
    },
    {
      "cell_type": "code",
      "metadata": {
        "colab": {
          "base_uri": "https://localhost:8080/"
        },
        "id": "ZrzEktZf6FcQ",
        "outputId": "b17e43e8-390c-4a46-8835-6bf85cad0638"
      },
      "source": [
        "model = build_model()"
      ],
      "execution_count": null,
      "outputs": [
        {
          "output_type": "stream",
          "text": [
            "Model: \"sequential\"\n",
            "_________________________________________________________________\n",
            "Layer (type)                 Output Shape              Param #   \n",
            "=================================================================\n",
            "lambda (Lambda)              (None, 160, 320, 3)       0         \n",
            "_________________________________________________________________\n",
            "conv2d (Conv2D)              (None, 78, 158, 24)       1824      \n",
            "_________________________________________________________________\n",
            "conv2d_1 (Conv2D)            (None, 37, 77, 36)        21636     \n",
            "_________________________________________________________________\n",
            "conv2d_2 (Conv2D)            (None, 17, 37, 48)        43248     \n",
            "_________________________________________________________________\n",
            "conv2d_3 (Conv2D)            (None, 13, 33, 64)        76864     \n",
            "_________________________________________________________________\n",
            "conv2d_4 (Conv2D)            (None, 9, 29, 64)         102464    \n",
            "_________________________________________________________________\n",
            "dropout (Dropout)            (None, 9, 29, 64)         0         \n",
            "_________________________________________________________________\n",
            "flatten (Flatten)            (None, 16704)             0         \n",
            "_________________________________________________________________\n",
            "dense (Dense)                (None, 100)               1670500   \n",
            "_________________________________________________________________\n",
            "dense_1 (Dense)              (None, 50)                5050      \n",
            "_________________________________________________________________\n",
            "dense_2 (Dense)              (None, 10)                510       \n",
            "_________________________________________________________________\n",
            "dense_3 (Dense)              (None, 1)                 11        \n",
            "=================================================================\n",
            "Total params: 1,922,107\n",
            "Trainable params: 1,922,107\n",
            "Non-trainable params: 0\n",
            "_________________________________________________________________\n"
          ],
          "name": "stdout"
        }
      ]
    },
    {
      "cell_type": "markdown",
      "metadata": {
        "id": "lPcoK0Ep5_-1"
      },
      "source": [
        "# Eğitim"
      ]
    },
    {
      "cell_type": "code",
      "metadata": {
        "id": "UzlP8M336C_7"
      },
      "source": [
        "def train(model, csv_path):\r\n",
        "\t#path verinin kaydedildiği csv yi gösterecek\r\n",
        "\tmodel.compile(loss='mean_squared_error', optimizer=Adam(lr=0.0001),metrics=[\"accuracy\"])\r\n",
        "   \r\n",
        "    #####\r\n",
        "    #path olarak yazılan yere uygun adresi ver\r\n",
        "    #####\r\n",
        "\tcheckpoint = ModelCheckpoint(\"path4/bin_v{epoch:02d}.hdf5\", verbose=1) #val_acc yok ondan val_loss\r\n",
        "\r\n",
        "\t\"\"\"\r\n",
        "\tfit_generator(object, generator, steps_per_epoch, epochs = 1,\r\n",
        "\t\tverbose = getOption(\"keras.fit_verbose\", default = 1),\r\n",
        "\t\tcallbacks = NULL, view_metrics = getOption(\"keras.view_metrics\",\r\n",
        "\t\tdefault = \"auto\"), validation_data = NULL, validation_steps = NULL,\r\n",
        "\t\tclass_weight = NULL, max_queue_size = 10, workers = 1,\r\n",
        "\t\tinitial_epoch = 0)\r\n",
        "\t\"\"\"\r\n",
        "    #fotolar da images klasörünün içinde olacak şekide yazdım ama \r\n",
        "    #fotolar drive'a yüklenirse (ki daha kolay olur) google drive colab'a bağlanmalı ve\r\n",
        "    #image_pre_path argumanı driveda fotoların olduğu yol olmalı\r\n",
        "\r\n",
        "    #steps_per_epoch * 32 data oluşturulacak her epoch da\r\n",
        "\tmodel.fit_generator(data_generator(csv_path, 32, image_pre_path = \"/content/drive/MyDrive/duckie-town/images\"),\r\n",
        "\t\t\t\t\t\tsteps_per_epoch = 10000,\r\n",
        "\t\t\t\t\t\tepochs = 10,\r\n",
        "\t\t\t\t\t\tvalidation_data=data_generator(csv_path, 100, image_pre_path = \"/content/drive/MyDrive/duckie-town/images\"),\r\n",
        "\t\t\t\t\t\tvalidation_steps = 5,\r\n",
        "\t\t\t\t\t\tcallbacks=[TensorBoard(log_dir='/content/drive/MyDrive/models (5)/', histogram_freq=0, write_graph=False), checkpoint ])\r\n",
        " \r\n",
        "    #####\r\n",
        "    #path olarak yazılan yere uygun adresi ver\r\n",
        "    #####\r\n",
        "\tmodel.save(\"/content/drive/MyDrive/models (5)/binary.hdf5\")"
      ],
      "execution_count": null,
      "outputs": []
    },
    {
      "cell_type": "code",
      "metadata": {
        "id": "d1CSNn6W67u2",
        "colab": {
          "base_uri": "https://localhost:8080/"
        },
        "outputId": "e1527869-6987-498c-f781-d2baba019170"
      },
      "source": [
        "train(model, \"drive/MyDrive/duckie-town/data/all.csv\")"
      ],
      "execution_count": null,
      "outputs": [
        {
          "output_type": "stream",
          "text": [
            "/usr/local/lib/python3.6/dist-packages/tensorflow/python/keras/engine/training.py:1844: UserWarning: `Model.fit_generator` is deprecated and will be removed in a future version. Please use `Model.fit`, which supports generators.\n",
            "  warnings.warn('`Model.fit_generator` is deprecated and '\n",
            "/usr/local/lib/python3.6/dist-packages/ipykernel_launcher.py:48: FutureWarning: Using a non-tuple sequence for multidimensional indexing is deprecated; use `arr[tuple(seq)]` instead of `arr[seq]`. In the future this will be interpreted as an array index, `arr[np.array(seq)]`, which will result either in an error or a different result.\n",
            "/usr/local/lib/python3.6/dist-packages/ipykernel_launcher.py:54: FutureWarning: Using a non-tuple sequence for multidimensional indexing is deprecated; use `arr[tuple(seq)]` instead of `arr[seq]`. In the future this will be interpreted as an array index, `arr[np.array(seq)]`, which will result either in an error or a different result.\n"
          ],
          "name": "stderr"
        },
        {
          "output_type": "stream",
          "text": [
            "Epoch 1/10\n",
            "2000/2000 [==============================] - 1798s 898ms/step - loss: 0.1592 - accuracy: 0.5054 - val_loss: 0.0532 - val_accuracy: 0.5280\n",
            "\n",
            "Epoch 00001: saving model to path4/bin_v01.hdf5\n",
            "Epoch 2/10\n",
            "2000/2000 [==============================] - 705s 353ms/step - loss: 0.0567 - accuracy: 0.5161 - val_loss: 0.0430 - val_accuracy: 0.4920\n",
            "\n",
            "Epoch 00002: saving model to path4/bin_v02.hdf5\n",
            "Epoch 3/10\n",
            "2000/2000 [==============================] - 707s 354ms/step - loss: 0.0387 - accuracy: 0.5177 - val_loss: 0.0298 - val_accuracy: 0.5240\n",
            "\n",
            "Epoch 00003: saving model to path4/bin_v03.hdf5\n",
            "Epoch 4/10\n",
            "2000/2000 [==============================] - 710s 355ms/step - loss: 0.0307 - accuracy: 0.5197 - val_loss: 0.0245 - val_accuracy: 0.5180\n",
            "\n",
            "Epoch 00004: saving model to path4/bin_v04.hdf5\n",
            "Epoch 5/10\n",
            "2000/2000 [==============================] - 707s 354ms/step - loss: 0.0244 - accuracy: 0.5162 - val_loss: 0.0142 - val_accuracy: 0.5220\n",
            "\n",
            "Epoch 00005: saving model to path4/bin_v05.hdf5\n",
            "Epoch 6/10\n",
            "2000/2000 [==============================] - 709s 355ms/step - loss: 0.0201 - accuracy: 0.5186 - val_loss: 0.0121 - val_accuracy: 0.5160\n",
            "\n",
            "Epoch 00006: saving model to path4/bin_v06.hdf5\n",
            "Epoch 7/10\n",
            "2000/2000 [==============================] - 714s 357ms/step - loss: 0.0165 - accuracy: 0.5249 - val_loss: 0.0103 - val_accuracy: 0.5220\n",
            "\n",
            "Epoch 00007: saving model to path4/bin_v07.hdf5\n",
            "Epoch 8/10\n",
            "2000/2000 [==============================] - 709s 354ms/step - loss: 0.0146 - accuracy: 0.5146 - val_loss: 0.0095 - val_accuracy: 0.5300\n",
            "\n",
            "Epoch 00008: saving model to path4/bin_v08.hdf5\n",
            "Epoch 9/10\n",
            "2000/2000 [==============================] - 706s 353ms/step - loss: 0.0122 - accuracy: 0.5228 - val_loss: 0.0111 - val_accuracy: 0.5100\n",
            "\n",
            "Epoch 00009: saving model to path4/bin_v09.hdf5\n",
            "Epoch 10/10\n",
            "2000/2000 [==============================] - 706s 353ms/step - loss: 0.0109 - accuracy: 0.5269 - val_loss: 0.0071 - val_accuracy: 0.5360\n",
            "\n",
            "Epoch 00010: saving model to path4/bin_v10.hdf5\n"
          ],
          "name": "stdout"
        }
      ]
    },
    {
      "cell_type": "code",
      "metadata": {
        "id": "_E9PxHGQHq4D"
      },
      "source": [
        "\n",
        "x = load_model(\"path4/bin_v04.hdf5\")\n",
        "\n",
        "x.save_weights(\"path4/bin_weights4.h5\")\n",
        "\n"
      ],
      "execution_count": null,
      "outputs": []
    },
    {
      "cell_type": "code",
      "metadata": {
        "id": "no36PVbjeiAe"
      },
      "source": [
        "model = load_model(\"drive/MyDrive/models (4)/binary.hdf5\")"
      ],
      "execution_count": null,
      "outputs": []
    },
    {
      "cell_type": "code",
      "metadata": {
        "id": "s4hMYljdeiMg",
        "colab": {
          "base_uri": "https://localhost:8080/",
          "height": 701
        },
        "outputId": "0d7fe519-f8cd-436d-b081-e07df055f0f6"
      },
      "source": [
        "train(model, \"drive/MyDrive/duckie-town/data/all.csv\")"
      ],
      "execution_count": null,
      "outputs": [
        {
          "output_type": "stream",
          "text": [
            "/usr/local/lib/python3.6/dist-packages/tensorflow/python/keras/engine/training.py:1844: UserWarning: `Model.fit_generator` is deprecated and will be removed in a future version. Please use `Model.fit`, which supports generators.\n",
            "  warnings.warn('`Model.fit_generator` is deprecated and '\n",
            "/usr/local/lib/python3.6/dist-packages/ipykernel_launcher.py:48: FutureWarning: Using a non-tuple sequence for multidimensional indexing is deprecated; use `arr[tuple(seq)]` instead of `arr[seq]`. In the future this will be interpreted as an array index, `arr[np.array(seq)]`, which will result either in an error or a different result.\n",
            "/usr/local/lib/python3.6/dist-packages/ipykernel_launcher.py:54: FutureWarning: Using a non-tuple sequence for multidimensional indexing is deprecated; use `arr[tuple(seq)]` instead of `arr[seq]`. In the future this will be interpreted as an array index, `arr[np.array(seq)]`, which will result either in an error or a different result.\n"
          ],
          "name": "stderr"
        },
        {
          "output_type": "stream",
          "text": [
            "Epoch 1/10\n",
            "10000/10000 [==============================] - 4891s 488ms/step - loss: 0.0084 - accuracy: 0.5210 - val_loss: 0.0036 - val_accuracy: 0.5180\n",
            "\n",
            "Epoch 00001: saving model to path4/bin_v01.hdf5\n",
            "Epoch 2/10\n",
            "10000/10000 [==============================] - 3453s 345ms/step - loss: 0.0050 - accuracy: 0.5230 - val_loss: 0.0024 - val_accuracy: 0.5420\n",
            "\n",
            "Epoch 00002: saving model to path4/bin_v02.hdf5\n",
            "Epoch 3/10\n",
            "10000/10000 [==============================] - 3447s 345ms/step - loss: 0.0034 - accuracy: 0.5233 - val_loss: 0.0012 - val_accuracy: 0.5340\n",
            "\n",
            "Epoch 00003: saving model to path4/bin_v03.hdf5\n",
            "Epoch 4/10\n",
            "10000/10000 [==============================] - 3464s 346ms/step - loss: 0.0024 - accuracy: 0.5213 - val_loss: 0.0012 - val_accuracy: 0.5220\n",
            "\n",
            "Epoch 00004: saving model to path4/bin_v04.hdf5\n",
            "Epoch 5/10\n",
            " 5377/10000 [===============>..............] - ETA: 27:04 - loss: 0.0019 - accuracy: 0.5217"
          ],
          "name": "stdout"
        },
        {
          "output_type": "error",
          "ename": "KeyboardInterrupt",
          "evalue": "ignored",
          "traceback": [
            "\u001b[0;31m---------------------------------------------------------------------------\u001b[0m",
            "\u001b[0;31mKeyboardInterrupt\u001b[0m                         Traceback (most recent call last)",
            "\u001b[0;32m<ipython-input-11-6fa6db5634ba>\u001b[0m in \u001b[0;36m<module>\u001b[0;34m()\u001b[0m\n\u001b[0;32m----> 1\u001b[0;31m \u001b[0mtrain\u001b[0m\u001b[0;34m(\u001b[0m\u001b[0mmodel\u001b[0m\u001b[0;34m,\u001b[0m \u001b[0;34m\"drive/MyDrive/duckie-town/data/all.csv\"\u001b[0m\u001b[0;34m)\u001b[0m\u001b[0;34m\u001b[0m\u001b[0;34m\u001b[0m\u001b[0m\n\u001b[0m",
            "\u001b[0;32m<ipython-input-10-f0c4aabd0d10>\u001b[0m in \u001b[0;36mtrain\u001b[0;34m(model, csv_path)\u001b[0m\n\u001b[1;32m     26\u001b[0m                                                 \u001b[0mvalidation_data\u001b[0m\u001b[0;34m=\u001b[0m\u001b[0mdata_generator\u001b[0m\u001b[0;34m(\u001b[0m\u001b[0mcsv_path\u001b[0m\u001b[0;34m,\u001b[0m \u001b[0;36m100\u001b[0m\u001b[0;34m,\u001b[0m \u001b[0mimage_pre_path\u001b[0m \u001b[0;34m=\u001b[0m \u001b[0;34m\"/content/drive/MyDrive/duckie-town/images\"\u001b[0m\u001b[0;34m)\u001b[0m\u001b[0;34m,\u001b[0m\u001b[0;34m\u001b[0m\u001b[0;34m\u001b[0m\u001b[0m\n\u001b[1;32m     27\u001b[0m                                                 \u001b[0mvalidation_steps\u001b[0m \u001b[0;34m=\u001b[0m \u001b[0;36m5\u001b[0m\u001b[0;34m,\u001b[0m\u001b[0;34m\u001b[0m\u001b[0;34m\u001b[0m\u001b[0m\n\u001b[0;32m---> 28\u001b[0;31m \t\t\t\t\t\tcallbacks=[TensorBoard(log_dir='/content/drive/MyDrive/models (5)/', histogram_freq=0, write_graph=False), checkpoint ])\n\u001b[0m\u001b[1;32m     29\u001b[0m \u001b[0;34m\u001b[0m\u001b[0m\n\u001b[1;32m     30\u001b[0m     \u001b[0;31m#####\u001b[0m\u001b[0;34m\u001b[0m\u001b[0;34m\u001b[0m\u001b[0;34m\u001b[0m\u001b[0m\n",
            "\u001b[0;32m/usr/local/lib/python3.6/dist-packages/tensorflow/python/keras/engine/training.py\u001b[0m in \u001b[0;36mfit_generator\u001b[0;34m(self, generator, steps_per_epoch, epochs, verbose, callbacks, validation_data, validation_steps, validation_freq, class_weight, max_queue_size, workers, use_multiprocessing, shuffle, initial_epoch)\u001b[0m\n\u001b[1;32m   1859\u001b[0m         \u001b[0muse_multiprocessing\u001b[0m\u001b[0;34m=\u001b[0m\u001b[0muse_multiprocessing\u001b[0m\u001b[0;34m,\u001b[0m\u001b[0;34m\u001b[0m\u001b[0;34m\u001b[0m\u001b[0m\n\u001b[1;32m   1860\u001b[0m         \u001b[0mshuffle\u001b[0m\u001b[0;34m=\u001b[0m\u001b[0mshuffle\u001b[0m\u001b[0;34m,\u001b[0m\u001b[0;34m\u001b[0m\u001b[0;34m\u001b[0m\u001b[0m\n\u001b[0;32m-> 1861\u001b[0;31m         initial_epoch=initial_epoch)\n\u001b[0m\u001b[1;32m   1862\u001b[0m \u001b[0;34m\u001b[0m\u001b[0m\n\u001b[1;32m   1863\u001b[0m   def evaluate_generator(self,\n",
            "\u001b[0;32m/usr/local/lib/python3.6/dist-packages/tensorflow/python/keras/engine/training.py\u001b[0m in \u001b[0;36mfit\u001b[0;34m(self, x, y, batch_size, epochs, verbose, callbacks, validation_split, validation_data, shuffle, class_weight, sample_weight, initial_epoch, steps_per_epoch, validation_steps, validation_batch_size, validation_freq, max_queue_size, workers, use_multiprocessing)\u001b[0m\n\u001b[1;32m   1098\u001b[0m                 _r=1):\n\u001b[1;32m   1099\u001b[0m               \u001b[0mcallbacks\u001b[0m\u001b[0;34m.\u001b[0m\u001b[0mon_train_batch_begin\u001b[0m\u001b[0;34m(\u001b[0m\u001b[0mstep\u001b[0m\u001b[0;34m)\u001b[0m\u001b[0;34m\u001b[0m\u001b[0;34m\u001b[0m\u001b[0m\n\u001b[0;32m-> 1100\u001b[0;31m               \u001b[0mtmp_logs\u001b[0m \u001b[0;34m=\u001b[0m \u001b[0mself\u001b[0m\u001b[0;34m.\u001b[0m\u001b[0mtrain_function\u001b[0m\u001b[0;34m(\u001b[0m\u001b[0miterator\u001b[0m\u001b[0;34m)\u001b[0m\u001b[0;34m\u001b[0m\u001b[0;34m\u001b[0m\u001b[0m\n\u001b[0m\u001b[1;32m   1101\u001b[0m               \u001b[0;32mif\u001b[0m \u001b[0mdata_handler\u001b[0m\u001b[0;34m.\u001b[0m\u001b[0mshould_sync\u001b[0m\u001b[0;34m:\u001b[0m\u001b[0;34m\u001b[0m\u001b[0;34m\u001b[0m\u001b[0m\n\u001b[1;32m   1102\u001b[0m                 \u001b[0mcontext\u001b[0m\u001b[0;34m.\u001b[0m\u001b[0masync_wait\u001b[0m\u001b[0;34m(\u001b[0m\u001b[0;34m)\u001b[0m\u001b[0;34m\u001b[0m\u001b[0;34m\u001b[0m\u001b[0m\n",
            "\u001b[0;32m/usr/local/lib/python3.6/dist-packages/tensorflow/python/eager/def_function.py\u001b[0m in \u001b[0;36m__call__\u001b[0;34m(self, *args, **kwds)\u001b[0m\n\u001b[1;32m    826\u001b[0m     \u001b[0mtracing_count\u001b[0m \u001b[0;34m=\u001b[0m \u001b[0mself\u001b[0m\u001b[0;34m.\u001b[0m\u001b[0mexperimental_get_tracing_count\u001b[0m\u001b[0;34m(\u001b[0m\u001b[0;34m)\u001b[0m\u001b[0;34m\u001b[0m\u001b[0;34m\u001b[0m\u001b[0m\n\u001b[1;32m    827\u001b[0m     \u001b[0;32mwith\u001b[0m \u001b[0mtrace\u001b[0m\u001b[0;34m.\u001b[0m\u001b[0mTrace\u001b[0m\u001b[0;34m(\u001b[0m\u001b[0mself\u001b[0m\u001b[0;34m.\u001b[0m\u001b[0m_name\u001b[0m\u001b[0;34m)\u001b[0m \u001b[0;32mas\u001b[0m \u001b[0mtm\u001b[0m\u001b[0;34m:\u001b[0m\u001b[0;34m\u001b[0m\u001b[0;34m\u001b[0m\u001b[0m\n\u001b[0;32m--> 828\u001b[0;31m       \u001b[0mresult\u001b[0m \u001b[0;34m=\u001b[0m \u001b[0mself\u001b[0m\u001b[0;34m.\u001b[0m\u001b[0m_call\u001b[0m\u001b[0;34m(\u001b[0m\u001b[0;34m*\u001b[0m\u001b[0margs\u001b[0m\u001b[0;34m,\u001b[0m \u001b[0;34m**\u001b[0m\u001b[0mkwds\u001b[0m\u001b[0;34m)\u001b[0m\u001b[0;34m\u001b[0m\u001b[0;34m\u001b[0m\u001b[0m\n\u001b[0m\u001b[1;32m    829\u001b[0m       \u001b[0mcompiler\u001b[0m \u001b[0;34m=\u001b[0m \u001b[0;34m\"xla\"\u001b[0m \u001b[0;32mif\u001b[0m \u001b[0mself\u001b[0m\u001b[0;34m.\u001b[0m\u001b[0m_experimental_compile\u001b[0m \u001b[0;32melse\u001b[0m \u001b[0;34m\"nonXla\"\u001b[0m\u001b[0;34m\u001b[0m\u001b[0;34m\u001b[0m\u001b[0m\n\u001b[1;32m    830\u001b[0m       \u001b[0mnew_tracing_count\u001b[0m \u001b[0;34m=\u001b[0m \u001b[0mself\u001b[0m\u001b[0;34m.\u001b[0m\u001b[0mexperimental_get_tracing_count\u001b[0m\u001b[0;34m(\u001b[0m\u001b[0;34m)\u001b[0m\u001b[0;34m\u001b[0m\u001b[0;34m\u001b[0m\u001b[0m\n",
            "\u001b[0;32m/usr/local/lib/python3.6/dist-packages/tensorflow/python/eager/def_function.py\u001b[0m in \u001b[0;36m_call\u001b[0;34m(self, *args, **kwds)\u001b[0m\n\u001b[1;32m    853\u001b[0m       \u001b[0;31m# In this case we have created variables on the first call, so we run the\u001b[0m\u001b[0;34m\u001b[0m\u001b[0;34m\u001b[0m\u001b[0;34m\u001b[0m\u001b[0m\n\u001b[1;32m    854\u001b[0m       \u001b[0;31m# defunned version which is guaranteed to never create variables.\u001b[0m\u001b[0;34m\u001b[0m\u001b[0;34m\u001b[0m\u001b[0;34m\u001b[0m\u001b[0m\n\u001b[0;32m--> 855\u001b[0;31m       \u001b[0;32mreturn\u001b[0m \u001b[0mself\u001b[0m\u001b[0;34m.\u001b[0m\u001b[0m_stateless_fn\u001b[0m\u001b[0;34m(\u001b[0m\u001b[0;34m*\u001b[0m\u001b[0margs\u001b[0m\u001b[0;34m,\u001b[0m \u001b[0;34m**\u001b[0m\u001b[0mkwds\u001b[0m\u001b[0;34m)\u001b[0m  \u001b[0;31m# pylint: disable=not-callable\u001b[0m\u001b[0;34m\u001b[0m\u001b[0;34m\u001b[0m\u001b[0m\n\u001b[0m\u001b[1;32m    856\u001b[0m     \u001b[0;32melif\u001b[0m \u001b[0mself\u001b[0m\u001b[0;34m.\u001b[0m\u001b[0m_stateful_fn\u001b[0m \u001b[0;32mis\u001b[0m \u001b[0;32mnot\u001b[0m \u001b[0;32mNone\u001b[0m\u001b[0;34m:\u001b[0m\u001b[0;34m\u001b[0m\u001b[0;34m\u001b[0m\u001b[0m\n\u001b[1;32m    857\u001b[0m       \u001b[0;31m# Release the lock early so that multiple threads can perform the call\u001b[0m\u001b[0;34m\u001b[0m\u001b[0;34m\u001b[0m\u001b[0;34m\u001b[0m\u001b[0m\n",
            "\u001b[0;32m/usr/local/lib/python3.6/dist-packages/tensorflow/python/eager/function.py\u001b[0m in \u001b[0;36m__call__\u001b[0;34m(self, *args, **kwargs)\u001b[0m\n\u001b[1;32m   2941\u001b[0m        filtered_flat_args) = self._maybe_define_function(args, kwargs)\n\u001b[1;32m   2942\u001b[0m     return graph_function._call_flat(\n\u001b[0;32m-> 2943\u001b[0;31m         filtered_flat_args, captured_inputs=graph_function.captured_inputs)  # pylint: disable=protected-access\n\u001b[0m\u001b[1;32m   2944\u001b[0m \u001b[0;34m\u001b[0m\u001b[0m\n\u001b[1;32m   2945\u001b[0m   \u001b[0;34m@\u001b[0m\u001b[0mproperty\u001b[0m\u001b[0;34m\u001b[0m\u001b[0;34m\u001b[0m\u001b[0m\n",
            "\u001b[0;32m/usr/local/lib/python3.6/dist-packages/tensorflow/python/eager/function.py\u001b[0m in \u001b[0;36m_call_flat\u001b[0;34m(self, args, captured_inputs, cancellation_manager)\u001b[0m\n\u001b[1;32m   1917\u001b[0m       \u001b[0;31m# No tape is watching; skip to running the function.\u001b[0m\u001b[0;34m\u001b[0m\u001b[0;34m\u001b[0m\u001b[0;34m\u001b[0m\u001b[0m\n\u001b[1;32m   1918\u001b[0m       return self._build_call_outputs(self._inference_function.call(\n\u001b[0;32m-> 1919\u001b[0;31m           ctx, args, cancellation_manager=cancellation_manager))\n\u001b[0m\u001b[1;32m   1920\u001b[0m     forward_backward = self._select_forward_and_backward_functions(\n\u001b[1;32m   1921\u001b[0m         \u001b[0margs\u001b[0m\u001b[0;34m,\u001b[0m\u001b[0;34m\u001b[0m\u001b[0;34m\u001b[0m\u001b[0m\n",
            "\u001b[0;32m/usr/local/lib/python3.6/dist-packages/tensorflow/python/eager/function.py\u001b[0m in \u001b[0;36mcall\u001b[0;34m(self, ctx, args, cancellation_manager)\u001b[0m\n\u001b[1;32m    558\u001b[0m               \u001b[0minputs\u001b[0m\u001b[0;34m=\u001b[0m\u001b[0margs\u001b[0m\u001b[0;34m,\u001b[0m\u001b[0;34m\u001b[0m\u001b[0;34m\u001b[0m\u001b[0m\n\u001b[1;32m    559\u001b[0m               \u001b[0mattrs\u001b[0m\u001b[0;34m=\u001b[0m\u001b[0mattrs\u001b[0m\u001b[0;34m,\u001b[0m\u001b[0;34m\u001b[0m\u001b[0;34m\u001b[0m\u001b[0m\n\u001b[0;32m--> 560\u001b[0;31m               ctx=ctx)\n\u001b[0m\u001b[1;32m    561\u001b[0m         \u001b[0;32melse\u001b[0m\u001b[0;34m:\u001b[0m\u001b[0;34m\u001b[0m\u001b[0;34m\u001b[0m\u001b[0m\n\u001b[1;32m    562\u001b[0m           outputs = execute.execute_with_cancellation(\n",
            "\u001b[0;32m/usr/local/lib/python3.6/dist-packages/tensorflow/python/eager/execute.py\u001b[0m in \u001b[0;36mquick_execute\u001b[0;34m(op_name, num_outputs, inputs, attrs, ctx, name)\u001b[0m\n\u001b[1;32m     58\u001b[0m     \u001b[0mctx\u001b[0m\u001b[0;34m.\u001b[0m\u001b[0mensure_initialized\u001b[0m\u001b[0;34m(\u001b[0m\u001b[0;34m)\u001b[0m\u001b[0;34m\u001b[0m\u001b[0;34m\u001b[0m\u001b[0m\n\u001b[1;32m     59\u001b[0m     tensors = pywrap_tfe.TFE_Py_Execute(ctx._handle, device_name, op_name,\n\u001b[0;32m---> 60\u001b[0;31m                                         inputs, attrs, num_outputs)\n\u001b[0m\u001b[1;32m     61\u001b[0m   \u001b[0;32mexcept\u001b[0m \u001b[0mcore\u001b[0m\u001b[0;34m.\u001b[0m\u001b[0m_NotOkStatusException\u001b[0m \u001b[0;32mas\u001b[0m \u001b[0me\u001b[0m\u001b[0;34m:\u001b[0m\u001b[0;34m\u001b[0m\u001b[0;34m\u001b[0m\u001b[0m\n\u001b[1;32m     62\u001b[0m     \u001b[0;32mif\u001b[0m \u001b[0mname\u001b[0m \u001b[0;32mis\u001b[0m \u001b[0;32mnot\u001b[0m \u001b[0;32mNone\u001b[0m\u001b[0;34m:\u001b[0m\u001b[0;34m\u001b[0m\u001b[0;34m\u001b[0m\u001b[0m\n",
            "\u001b[0;31mKeyboardInterrupt\u001b[0m: "
          ]
        }
      ]
    }
  ]
}